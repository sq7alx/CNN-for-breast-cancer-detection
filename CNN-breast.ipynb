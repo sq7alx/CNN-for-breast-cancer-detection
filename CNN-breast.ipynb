{
  "nbformat": 4,
  "nbformat_minor": 0,
  "metadata": {
    "colab": {
      "provenance": []
    },
    "kernelspec": {
      "name": "python3",
      "display_name": "Python 3"
    },
    "language_info": {
      "name": "python"
    }
  },
  "cells": [
    {
      "cell_type": "code",
      "execution_count": null,
      "metadata": {
        "id": "s_kIBVgfy7eY"
      },
      "outputs": [],
      "source": [
        "! pip install kaggle"
      ]
    },
    {
      "cell_type": "code",
      "source": [
        "!mkdir -p ~/.kaggle\n",
        "!cp kaggle.json ~/.kaggle/\n",
        "!chmod 600 ~/.kaggle/kaggle.json"
      ],
      "metadata": {
        "id": "2aFf1pXCy7-f"
      },
      "execution_count": null,
      "outputs": []
    },
    {
      "cell_type": "code",
      "source": [
        "!kaggle datasets download -d aryashah2k/breast-ultrasound-images-dataset"
      ],
      "metadata": {
        "id": "wV5PdqmLy8Dl"
      },
      "execution_count": null,
      "outputs": []
    },
    {
      "cell_type": "code",
      "source": [
        "from zipfile import ZipFile\n",
        "dataset = '/content/breast-ultrasound-images-dataset.zip'\n",
        "\n",
        "with ZipFile(dataset,'r') as zip:\n",
        "  zip.extractall()\n",
        "  print('The dataset is extracted')"
      ],
      "metadata": {
        "id": "Q1SS6-yXy8Gv"
      },
      "execution_count": null,
      "outputs": []
    },
    {
      "cell_type": "code",
      "source": [
        "import tensorflow as tf\n",
        "import pandas as pd\n",
        "from PIL import Image\n",
        "import os\n",
        "import numpy as np\n",
        "import matplotlib.pyplot as plt\n",
        "import os\n",
        "import pathlib\n",
        "import random"
      ],
      "metadata": {
        "id": "ERg4-49qy8Jr"
      },
      "execution_count": null,
      "outputs": []
    },
    {
      "cell_type": "code",
      "source": [
        "path = '../content/Dataset_BUSI_with_GT'\n",
        "\n",
        "data_dir = pathlib.Path(path)"
      ],
      "metadata": {
        "id": "fEIsZc3dy8Me"
      },
      "execution_count": null,
      "outputs": []
    },
    {
      "cell_type": "code",
      "source": [
        "class_names = np.array(sorted([item.name for item in data_dir.glob(\"*\")]))\n",
        "class_names"
      ],
      "metadata": {
        "id": "SYqe_8X-y8Pe"
      },
      "execution_count": null,
      "outputs": []
    },
    {
      "cell_type": "code",
      "source": [
        "benignPath = os.path.join(data_dir,'bening')\n",
        "malignantPath = os.path.join(data_dir,'malignant')\n",
        "normalPath = os.path.join(data_dir,'normal')"
      ],
      "metadata": {
        "id": "YxXWtE3uy8SL"
      },
      "execution_count": null,
      "outputs": []
    },
    {
      "cell_type": "code",
      "source": [
        "plt.figure(figsize=(15,15))\n",
        "\n",
        "for i in range(25):\n",
        "    plt.subplot(5,5,i+1)\n",
        "    random_class = random.choice(class_names)\n",
        "    img = plt.imread(random.choice(list(data_dir.glob(random_class+\"/*.png\"))))\n",
        "    plt.xticks([])\n",
        "    plt.yticks([])\n",
        "    plt.title(random_class)\n",
        "    plt.imshow(img)"
      ],
      "metadata": {
        "id": "RfLtttOoy8Uo"
      },
      "execution_count": null,
      "outputs": []
    },
    {
      "cell_type": "code",
      "source": [
        "from pathlib import Path\n",
        "import imghdr\n",
        "\n",
        "data_dir = '../content/Dataset_BUSI_with_GT'\n",
        "image_extensions = [\".png\", \".jpg\"]  # add there all your images file extensions\n",
        "\n",
        "img_type_accepted_by_tf = [\"bmp\", \"gif\", \"jpeg\", \"png\"]\n",
        "for filepath in Path(data_dir).rglob(\"*\"):\n",
        "    if filepath.suffix.lower() in image_extensions:\n",
        "        img_type = imghdr.what(filepath)\n",
        "        if img_type is None:\n",
        "            print(f\"{filepath} is not an image\")\n",
        "        elif img_type not in img_type_accepted_by_tf:\n",
        "            print(f\"{filepath} is a {img_type}, not accepted by TensorFlow\")"
      ],
      "metadata": {
        "id": "0U0cuKMEzE6S"
      },
      "execution_count": null,
      "outputs": []
    },
    {
      "cell_type": "code",
      "source": [
        "batch_size = 32\n",
        "img_height = 224\n",
        "img_width = 224"
      ],
      "metadata": {
        "id": "rI5cxDi2zE8g"
      },
      "execution_count": null,
      "outputs": []
    },
    {
      "cell_type": "code",
      "source": [
        "from tensorflow.keras.utils import image_dataset_from_directory\n",
        "\n",
        "train_data = image_dataset_from_directory(\n",
        "                  data_dir,\n",
        "                  validation_split=0.2,\n",
        "                  subset=\"training\",\n",
        "                  seed=123,\n",
        "                  image_size=(img_height, img_width),\n",
        "                  batch_size=batch_size)\n",
        "\n",
        "\n",
        "val_data = image_dataset_from_directory(data_dir,\n",
        "                                        validation_split=0.2,\n",
        "                                        subset=\"validation\",\n",
        "                                        seed=123,\n",
        "                                        image_size=(img_height,img_width),\n",
        "                                        batch_size=batch_size)"
      ],
      "metadata": {
        "id": "CkwODD61zE-_"
      },
      "execution_count": null,
      "outputs": []
    },
    {
      "cell_type": "code",
      "source": [
        "from tensorflow.keras import layers\n",
        "model = tf.keras.Sequential([\n",
        "  layers.Rescaling(1./255, input_shape=(img_height, img_width, 3)),\n",
        "\n",
        "  layers.Conv2D(16, 3, padding='same', activation='relu'),\n",
        "  layers.MaxPooling2D(),\n",
        "\n",
        "  layers.Conv2D(32, 3, padding='same', activation='relu'),\n",
        "  layers.MaxPooling2D(),\n",
        "\n",
        "  layers.Conv2D(64, 3, padding='same', activation='relu'),\n",
        "  layers.MaxPooling2D(),\n",
        "\n",
        "  layers.Dropout(0.5),\n",
        "  layers.Flatten(),\n",
        "  layers.Dense(128, activation='relu'),\n",
        "  layers.Dense(3,activation=\"softmax\")\n",
        "])"
      ],
      "metadata": {
        "id": "Jgh7qXT0zH1W"
      },
      "execution_count": null,
      "outputs": []
    },
    {
      "cell_type": "code",
      "source": [
        "model.compile(optimizer=\"Adam\",\n",
        "            loss=tf.keras.losses.SparseCategoricalCrossentropy(from_logits=True),\n",
        "            metrics=[\"accuracy\"])"
      ],
      "metadata": {
        "id": "jf5LEMXVzI_L"
      },
      "execution_count": null,
      "outputs": []
    },
    {
      "cell_type": "code",
      "source": [
        "epochs = 20\n",
        "history = model.fit(train_data,\n",
        "                    epochs=epochs,\n",
        "                    validation_data=val_data,\n",
        "                    batch_size=batch_size)"
      ],
      "metadata": {
        "id": "K5M3lpz5zKe7"
      },
      "execution_count": null,
      "outputs": []
    },
    {
      "cell_type": "code",
      "source": [
        "history.history.keys()"
      ],
      "metadata": {
        "id": "6HJyzD5szKhZ"
      },
      "execution_count": null,
      "outputs": []
    },
    {
      "cell_type": "code",
      "source": [
        "acc = history.history['accuracy']\n",
        "val_acc =  history.history['val_accuracy']\n",
        "\n",
        "loss = history.history['loss']\n",
        "val_loss = history.history['val_loss']\n",
        "\n",
        "epochs_range = range(epochs)\n",
        "\n",
        "plt.figure(figsize=(8,8))\n",
        "plt.subplot(1,2,1)\n",
        "plt.plot(epochs_range,acc,label='Accuracy')\n",
        "plt.plot(epochs_range,val_acc,label=\"Validation Accuracy\")\n",
        "plt.legend()\n",
        "\n",
        "plt.subplot(1,2,2)\n",
        "plt.plot(epochs_range,loss,label='Loss')\n",
        "plt.plot(epochs_range,val_loss,label=\"Validation Loss\")\n",
        "plt.legend()\n",
        "plt.show()"
      ],
      "metadata": {
        "colab": {
          "base_uri": "https://localhost:8080/",
          "height": 676
        },
        "id": "F5sqRc4SzKj1",
        "outputId": "2138a50d-c368-46e8-ef23-985dad6615e3"
      },
      "execution_count": null,
      "outputs": [
        {
          "output_type": "display_data",
          "data": {
            "text/plain": [
              "<Figure size 800x800 with 2 Axes>"
            ],
            "image/png": "[encoded data removed]"
          },
          "metadata": {}
        }
      ]
    },
    {
      "cell_type": "code",
      "source": [
        "model.evaluate(val_data)"
      ],
      "metadata": {
        "id": "e3umXf_mzNTg"
      },
      "execution_count": null,
      "outputs": []
    },
    {
      "cell_type": "code",
      "source": [
        "model.summary()"
      ],
      "metadata": {
        "id": "dVMPFkqazNV5"
      },
      "execution_count": null,
      "outputs": []
    },
    {
      "cell_type": "code",
      "source": [
        "plt.figure(figsize=(20, 20))\n",
        "class_names = val_data.class_names\n",
        "result = ' F'\n",
        "for images, labels in val_data.take(1):\n",
        "    for i in range(25):\n",
        "\n",
        "        ax = plt.subplot(5, 5, i + 1)\n",
        "        img = images[i].numpy().astype(\"uint8\")\n",
        "        img = tf.expand_dims(img, axis=0)\n",
        "\n",
        "        predictions = model.predict(img)\n",
        "        predicted_class = np.argmax(predictions)\n",
        "        if class_names[predicted_class] == class_names[labels[i]]:\n",
        "            result = ' T'\n",
        "\n",
        "        plt.imshow(images[i].numpy().astype(\"uint8\"))\n",
        "        plt.title(class_names[predicted_class]+result  )\n",
        "        plt.axis(\"off\")"
      ],
      "metadata": {
        "id": "MjNTWA9YzNYG"
      },
      "execution_count": null,
      "outputs": []
    }
  ]
}